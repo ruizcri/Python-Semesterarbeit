{
 "cells": [
  {
   "cell_type": "markdown",
   "id": "f19015b7-4fce-4798-b238-58e42b9864f5",
   "metadata": {},
   "source": [
    "# Semesteraufgabe Teil Py1a"
   ]
  },
  {
   "cell_type": "markdown",
   "id": "6cf93ece-a52d-4c8c-aafd-7d570e287940",
   "metadata": {},
   "source": [
    "### Erstellung einer Liste\n",
    "\n",
    "Als erstes wird eine Liste mit Zahlen erstellt, welche für die Funktionen benutzt werden, um zu überprüfen, ob die Funktionen korrekt sind."
   ]
  },
  {
   "cell_type": "code",
   "execution_count": 11,
   "id": "66743616-8725-4bb9-99f2-5f8f1f13b8bb",
   "metadata": {
    "tags": []
   },
   "outputs": [
    {
     "name": "stdout",
     "output_type": "stream",
     "text": [
      "[12, 7, 9, 3, 24, 50, 17, 39, 47, 11]\n"
     ]
    },
    {
     "data": {
      "text/plain": [
       "219"
      ]
     },
     "execution_count": 11,
     "metadata": {},
     "output_type": "execute_result"
    }
   ],
   "source": [
    "# Erstellung der Liste\n",
    "\n",
    "liste = [12, 7, 9, 3, 24, 50, 17, 39, 47, 11]\n",
    "\n",
    "# Überprüfung ob Liste erstellt wurde\n",
    "\n",
    "print (liste)\n",
    "\n",
    "# Überprüfung ob Liste summiert werden kann\n",
    "\n",
    "sum (liste)\n"
   ]
  },
  {
   "cell_type": "markdown",
   "id": "1730ad8c-4518-4c1b-9cab-7afb38cb398d",
   "metadata": {},
   "source": [
    "## 1. Arithmetisches Mittel"
   ]
  },
  {
   "cell_type": "markdown",
   "id": "3b18e713-0d2c-4d4e-8634-c6bbda3e90a8",
   "metadata": {
    "tags": []
   },
   "source": [
    "#### Berechnung:\n",
    "\n",
    "Summe aller Zahlen / Anzahl Zahlen\n",
    "\n",
    "#### Vorgehen:\n",
    "1. ___def arith_mittel (data):___ Erstellung der Funktion mit dem Befehl ___def___\n",
    "2. ___return___: Definition der Ausgabe von der Berechnung in der Funktion\n",
    "_(für die nächsten Aufgaben werden die ersten zwei Punkte nicht mehr erwähnt, da sie sich wiederholen)_\n",
    "3. ___sum(data) / len(data)___: Summe der Daten mit Befehl ___sum___ durch die Anzahl der Daten mit Befehl ___len___\n",
    "4. ___print___: um zu überprüfen ob die Berechnung korrekt ist und die Funktion erstellt wurde"
   ]
  },
  {
   "cell_type": "code",
   "execution_count": 12,
   "id": "29f139ac-7b61-40a4-8c2e-8b16e0114656",
   "metadata": {
    "tags": []
   },
   "outputs": [
    {
     "name": "stdout",
     "output_type": "stream",
     "text": [
      "21.9\n"
     ]
    }
   ],
   "source": [
    "def arith_mittel (data):\n",
    "    return sum(data) / len(data)\n",
    "\n",
    "print (arith_mittel(liste))"
   ]
  },
  {
   "cell_type": "markdown",
   "id": "120e2d35-0575-4ed3-bcd3-112091d71314",
   "metadata": {},
   "source": [
    "## 2. Geometrisches Mittel"
   ]
  },
  {
   "cell_type": "markdown",
   "id": "de7112dd-57f0-4471-a35f-c7176d19edb4",
   "metadata": {},
   "source": [
    "#### Berechnung:\n",
    "\n",
    "Das Produkt aller Zahlen wird mit der n-ten Wurzel (also der Anzahl der Datenwerte) berechnet\n",
    "\n",
    "#### Vorgehen:\n",
    "1. ___produkt = 1___: Variable mit der Zahl \"1\" initialisieren, da die Mulitplikation mit 1 kein Einfluss auf das Produkt hat\n",
    "2. ___for wert in data:___ Erstellung von Schleife, damit die Liste iteriert werden kann, um so das Produkt zu berechnen\n",
    "3. ___produkt = produkt * wert___: Schleifendurchlauf damit der aktuelle Wert \"wert\" mit der aktuellen Produktvariable \"produkt\" multipliziert und neu gespeichert wird\n",
    "4. ___return produkt ** (1/ len(data)___: Wiedergabe des Endprodukts mit der Wurzel 10. 1 durch die Länge der Anzahl Zahlen in der Liste ergibt 0.1. Das Endbprodukt hoch 0.1 ist das gleiche wie die Wurzel mit 10 zu ziehen.\n",
    "5. ___print (geom_mittel(liste))___: um zu überprüfen ob die Berechnung korrekt ist und die Funktion erstellt wurde"
   ]
  },
  {
   "cell_type": "code",
   "execution_count": 19,
   "id": "8e2b8c80-9c4b-4223-8b34-212c1e4a608e",
   "metadata": {
    "tags": []
   },
   "outputs": [
    {
     "name": "stdout",
     "output_type": "stream",
     "text": [
      "15.739206622355514\n"
     ]
    }
   ],
   "source": [
    "def geom_mittel(data):\n",
    "    produkt = 1\n",
    "    for wert in data:\n",
    "        produkt = produkt * wert\n",
    "    return produkt ** (1 / len(data))\n",
    "\n",
    "print (geom_mittel(liste))"
   ]
  },
  {
   "cell_type": "markdown",
   "id": "6f2912e8-df8b-47b2-8e91-a49816d05e3c",
   "metadata": {},
   "source": [
    "## 3. Harmonisches Mittel"
   ]
  },
  {
   "cell_type": "markdown",
   "id": "5367fed3-c4f5-464c-999b-eeae1f21e905",
   "metadata": {},
   "source": [
    "#### Berechnung:\n",
    "\n",
    "Summe aller Kehrwerte der Zahlen in der Liste durch die Anzahl\n",
    "\n",
    "#### Vorgehen:\n",
    "1. ___return len(data) / sum(1 / wert for wert in data)___: um über eine neue Generator-Liste die Kehrwerte zu erhalten und somit das Harmonische Mittel zu berechnen\n",
    "    * len(data) = Ausgabe der Anzahl\n",
    "    * sum = summe\n",
    "    * (1/ wert for wert in Data) neue Liste mit den Kehrwerten. 1 / jeden einzelnen Wert der Liste)\n",
    "2. ___print (harm_mittel(liste))___: um zu überprüfen ob die Berechnung korrekt ist und die Funktion erstellt wurde"
   ]
  },
  {
   "cell_type": "code",
   "execution_count": 26,
   "id": "a88c1d72-ab7c-45ec-aa2f-7cdc14d4d456",
   "metadata": {
    "tags": []
   },
   "outputs": [
    {
     "name": "stdout",
     "output_type": "stream",
     "text": [
      "10.764820831104982\n"
     ]
    }
   ],
   "source": [
    "def harm_mittel(data):\n",
    "    return len(data) / sum(1 / wert for wert in data)\n",
    "\n",
    "print (harm_mittel(liste))"
   ]
  },
  {
   "cell_type": "markdown",
   "id": "98f3962b-b43b-437a-bb26-59d16ac295f2",
   "metadata": {},
   "source": [
    "## 4. Median"
   ]
  },
  {
   "cell_type": "markdown",
   "id": "82780e56-1cd1-4cf5-ba38-544ad0450824",
   "metadata": {},
   "source": [
    "#### Berechnung:\n",
    "\n",
    "Der Mittlere Wert einer sortierten Liste, wenn Anzahl in der Liste ungerade ist. Wenn nicht, werden die mittleren zwei Werte durhc zwei geteilt.\n",
    "\n",
    "#### Vorgehen:\n",
    "1. ___sortierung = sorted(data)___ Sortierung der Liste\n",
    "2. ___n = len(sortierung)___: um die Anzahl zu ermitteln und die Liste neu als Variable \"n\" sortiert zu speichern\n",
    "3. ___if n % 2 == 0:___ um mit einem \"wenn\" Befehl zu starten, welcher ermitteln soll ob die Anzahl in der Liste gerade oder ungerade ist.\n",
    "4. ___return (sortierung[n // 2 - 1] + sortierung[n // 2]) / 2___: falls wahr, also gerade, um die mittleren zwei Positionen in der Liste zu finden. Dazu wird der Index n \"// 2 - 1\" und \"n // 2\" verwendet.\n",
    "5. ___else___ um einen anderen Befehl auszuüben, falls die Anzahl ungerade ist\n",
    "6. ___return sortierung[n // 2]___ falls Liste ungerade. In diesem Fall würde der Wert der in der Mitte ist ausgegeben werden.\n",
    "7. ___print (median(liste))___ um zu überprüfen ob die Berechnung korrekt ist und die Funktion erstellt wurde"
   ]
  },
  {
   "cell_type": "code",
   "execution_count": 42,
   "id": "1ba875e7-76a9-466a-88ca-737a6c405505",
   "metadata": {
    "tags": []
   },
   "outputs": [
    {
     "name": "stdout",
     "output_type": "stream",
     "text": [
      "14.5\n"
     ]
    }
   ],
   "source": [
    "def median(data):\n",
    "    sortierung = sorted(data)\n",
    "    n = len(sortierung)\n",
    "    if n % 2 == 0:\n",
    "        return (sortierung[n // 2 - 1] + sortierung[n // 2]) / 2\n",
    "    else:\n",
    "        return sortierung[n // 2]\n",
    "    \n",
    "print (median(liste))\n"
   ]
  },
  {
   "cell_type": "markdown",
   "id": "5958c37c-8071-455d-a101-17d05323f3cb",
   "metadata": {},
   "source": [
    "## 5. Modus"
   ]
  },
  {
   "cell_type": "markdown",
   "id": "82bcc8fa-d2ca-4a72-9a45-9bbd7d062997",
   "metadata": {},
   "source": [
    "#### Berechnung:\n",
    "\n",
    "Zählung des Wertes, welches am meisten vorkommt\n",
    "\n",
    "#### Vorgehen:\n",
    "1. ___import statistics___: um Statikmoduls \"statistics\" zu importieren. Quelle: https://geekflare.com/de/python-find-mean-median-and-mode/\n",
    "2. ___return statistics.mode(data)___: um den Modus zurückzugeben\n",
    "3. ___print(modus(liste))___: um zu überprüfen ob die Berechnung korrekt ist und die Funktion erstellt wurde\n",
    "\n",
    "In diesem Fall ist die Ausgabe die Zahl 3, dies obwohl keine Zahl doppelt in der Liste aufgeführt wird. Laut chat.openai.com, gibt \"statistics.mode\", den ersten Wert aus der Liste aus, wenn kein Wert mehr als einmal vorhanden ist."
   ]
  },
  {
   "cell_type": "code",
   "execution_count": 47,
   "id": "f2f882f0-ebec-4617-bfdd-edb55c22e831",
   "metadata": {
    "tags": []
   },
   "outputs": [
    {
     "name": "stdout",
     "output_type": "stream",
     "text": [
      "3\n"
     ]
    }
   ],
   "source": [
    "import statistics\n",
    "\n",
    "def modus(data):\n",
    "    return statistics.mode(data)\n",
    "\n",
    "print(modus(liste))"
   ]
  },
  {
   "cell_type": "markdown",
   "id": "b365c231-7d2f-4899-a03e-b6373279b1d5",
   "metadata": {},
   "source": [
    "## 6. Varianz"
   ]
  },
  {
   "cell_type": "markdown",
   "id": "c0ce8df1-990d-408a-ad1b-40eff6806420",
   "metadata": {},
   "source": [
    "#### Berechnung:\n",
    "\n",
    "Durchschnittliche Abweichung der Zahlen vom arithmetischen Mittel. Zuerst wird das arithmetische Mittel der Zahlen ermittelt, dann die quadrierten Abweichungen jeder Zahl vom arithmetischen Mittel und schließlich die Summe dieser quadrierten Abweichungen, durch die Anzahl der Zahlen.\n",
    "\n",
    "#### Vorgehen:\n",
    "1. ___quad_abw = [(x - (sum(data)/len(data))) ** 2 for x in data]___: um eine List Comprehension zu erstellen, welche die quadrierten Abweichungen enthält. Theoretisch könnte man hier auch statt den Mittelwert zu berechnen, auch die Variable \"arith_mittel\" nehmen, da diese hier gültig wäre. Ich möchte jedoch einen code erstellen, bei welchem ich davon ausgehe, dass dies Variabel noch nicht erstellt ist.\n",
    "2. ___return sum(quad_abw) / len(data)___: um List Comprehension mit der Anzahl daten zu dividieren. Somit erhalten wir die Varianz.\n",
    "3. ___print(varianz(liste))___: um zu überprüfen ob die Berechnung korrekt ist und die Funktion erstellt wurde\n",
    "\n"
   ]
  },
  {
   "cell_type": "code",
   "execution_count": 55,
   "id": "2db7bd66-17f9-4f23-abc9-02010a632f75",
   "metadata": {
    "tags": []
   },
   "outputs": [
    {
     "name": "stdout",
     "output_type": "stream",
     "text": [
      "270.29\n"
     ]
    }
   ],
   "source": [
    "def varianz(data):\n",
    "    quad_abw = [(x - (sum(data)/len(data))) ** 2 for x in data]\n",
    "    return sum(quad_abw) / len(data)\n",
    "\n",
    "print(varianz(liste))"
   ]
  },
  {
   "cell_type": "markdown",
   "id": "5b628837-1a81-4946-aa05-9727e0c29d3c",
   "metadata": {},
   "source": [
    "## 7. Standardabweichung"
   ]
  },
  {
   "cell_type": "markdown",
   "id": "71f8bd46-28b0-466a-a83a-8c057b02c2f6",
   "metadata": {},
   "source": [
    "#### Berechnung:\n",
    "\n",
    "Quadratwurzel der Varianz. \n",
    "\n",
    "#### Vorgehen 1 wenn Varianz als Variable bereits gespeichert\n",
    "1. ___return varianz(data) ** 0.5___: um die Quadratwurzel der zuvor berechneten Varianz zu berechnen\n",
    "2. ___print (standardabweichung(list))___: um zu überprüfen ob die Berechnung korrekt ist und die Funktion erstellt wurde"
   ]
  },
  {
   "cell_type": "code",
   "execution_count": 58,
   "id": "165ccb0e-d2c7-4612-8834-4db5862ff46c",
   "metadata": {
    "tags": []
   },
   "outputs": [
    {
     "name": "stdout",
     "output_type": "stream",
     "text": [
      "16.440498775888766\n"
     ]
    }
   ],
   "source": [
    "def standardabweichung(data):\n",
    "    return varianz(data) ** 0.5\n",
    "\n",
    "print(standardabweichung(liste))"
   ]
  },
  {
   "cell_type": "markdown",
   "id": "29523f56-ad48-421e-97c1-bf9be21fa295",
   "metadata": {},
   "source": [
    "#### Vorgehen 2 wenn Varianz als Variable noch nicht gespeichert\n",
    "\n",
    "Hier habe ich ganz einfach den ersten Teil des codes für die Varianz kopiert und dann am Schluss den Code aus dem \"Vorgehen 1\".\n"
   ]
  },
  {
   "cell_type": "code",
   "execution_count": 65,
   "id": "57d6faa3-bd1c-49a6-b938-f27bc175d5d5",
   "metadata": {
    "tags": []
   },
   "outputs": [
    {
     "name": "stdout",
     "output_type": "stream",
     "text": [
      "16.440498775888766\n"
     ]
    }
   ],
   "source": [
    "def standardabweichung2(data):\n",
    "    quad_abw = [(x - (sum(data)/len(data))) ** 2 for x in data]\n",
    "    varianz = sum(quad_abw) / len(data)\n",
    "    return varianz ** 0.5\n",
    "\n",
    "print(standardabweichung2(liste))"
   ]
  },
  {
   "cell_type": "markdown",
   "id": "8e3fbd0a-9421-4e68-b856-c877941a7a5f",
   "metadata": {},
   "source": [
    "## 8. Variationskoeffizient"
   ]
  },
  {
   "cell_type": "markdown",
   "id": "3f7e7521-f638-4302-ad04-3a4adf2b9352",
   "metadata": {},
   "source": [
    "#### Berechnung:\n",
    "\n",
    "Quadratwurzel der Varianz. \n",
    "\n",
    "1. ___return varianz(data) ** 0.5___: um die Quadratwurzel der zuvor berechneten Varianz zu berechnen\n",
    "2. ___print (standardabweichung(list))___: um zu überprüfen ob die Berechnung korrekt ist und die Funktion erstellt wurde"
   ]
  },
  {
   "cell_type": "code",
   "execution_count": 64,
   "id": "5c24a0fe-523c-4538-8d30-946dbba9ad3f",
   "metadata": {
    "tags": []
   },
   "outputs": [
    {
     "name": "stdout",
     "output_type": "stream",
     "text": [
      "75.07077066615877\n"
     ]
    }
   ],
   "source": [
    "def variationskoeffizient(data):\n",
    "    return (standardabweichung2(data) / arith_mittel(data)) * 100\n",
    "\n",
    "print (variationskoeffizient(liste))"
   ]
  },
  {
   "cell_type": "markdown",
   "id": "05beebe8-894a-466b-93aa-f49f71f4d30d",
   "metadata": {},
   "source": []
  }
 ],
 "metadata": {
  "kernelspec": {
   "display_name": "Python 3 (ipykernel)",
   "language": "python",
   "name": "python3"
  },
  "language_info": {
   "codemirror_mode": {
    "name": "ipython",
    "version": 3
   },
   "file_extension": ".py",
   "mimetype": "text/x-python",
   "name": "python",
   "nbconvert_exporter": "python",
   "pygments_lexer": "ipython3",
   "version": "3.11.4"
  }
 },
 "nbformat": 4,
 "nbformat_minor": 5
}
