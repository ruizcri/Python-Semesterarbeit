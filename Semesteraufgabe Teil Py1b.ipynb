{
 "cells": [
  {
   "cell_type": "markdown",
   "id": "1f425e1c-255b-4fc2-b9b0-1fbe1c5119d1",
   "metadata": {
    "tags": []
   },
   "source": [
    "# Semesteraufgabe Teil Py1b\n"
   ]
  },
  {
   "cell_type": "markdown",
   "id": "68c01e07-b95b-4e3c-8672-30af00d37a17",
   "metadata": {},
   "source": [
    "### 1. Primzahl True / False\n",
    "\n",
    "1. ___def primzahl(n):___ Erstellung einer Funktion namens ___primzahl___. Diese Funktion akzeptiert das Argument ___n___, welches die zu überprüfende Zahl repräsentiert.\n",
    "2. ___if n <= 1:___ Überprüfung ob die gegebene Zahl ___n___ kleiner oder gleich 1 ist. \n",
    "3. ___return False___:  da Primzahlen grösser als 1 sind, wird ___False___ zurückgegeben, wenn ___n___ kleiner oder gleich 1 ist, da es keine Primzahl sein kann.\n",
    "4. ___for i in range(2, int(n**0.5) + 1):___ Erstellung einer Schleife, um alle Zahlen von 2 bis zur Quadratwurzel von ___n___ zu überprüfen, dies wird mit dem Befehl ___range___ gemacht. Der Befehl ___int(n**0.5) + 1___, um sicherzustellen, dass die Quadratwurzel aufgerundet wird, da nur ganze Zahlen benötigen werden. Dieser Befehl ermöglicht eine schnellere Überprüfung der Teilbarkeit, da nicht jede Zahl von 2 bis ___n___ überprüft wird. \n",
    "5. ___if n % i == 0:___ innerhalb der Schleife wird überprüft, ob ___n___ durch ___i___ teilbar ist (also ob der Rest von ___n___ bei der Division durch ___i___ gleich 0 ist). \n",
    "6. ___return False___ wenn Division gleich 0, wird ___False___ zurückgegebn, da ___n___ keine Primzahl ist.\n",
    "7. ___return True___ wenn die Schleife alle möglichen Teilbarkeiten überprüft hat und keine gefunden wurde. Das bedeutet, dass ___n___ keine Teilbarkeit ausser 1 und sich selbst hat und daher eine Primzahl ist."
   ]
  },
  {
   "cell_type": "code",
   "execution_count": 4,
   "id": "5a2bbdad-94c0-4905-8851-771d5ce67012",
   "metadata": {
    "tags": []
   },
   "outputs": [],
   "source": [
    "\n",
    "def primzahl(n):\n",
    "    if n <= 1:\n",
    "        return False\n",
    "    for i in range(2, int(n**0.5) + 1):\n",
    "        if n % i == 0:\n",
    "            return False\n",
    "    return True"
   ]
  },
  {
   "cell_type": "markdown",
   "id": "2b8f0488-ae8f-4bb9-b2f7-eb43e861706a",
   "metadata": {},
   "source": [
    "#### Test der Aufgabe"
   ]
  },
  {
   "cell_type": "code",
   "execution_count": 7,
   "id": "958c05b9-deab-4a1e-ba68-1939e55e83a9",
   "metadata": {
    "tags": []
   },
   "outputs": [
    {
     "name": "stdout",
     "output_type": "stream",
     "text": [
      "ist eine Primzahl.\n"
     ]
    }
   ],
   "source": [
    "zahl = 17\n",
    "\n",
    "if primzahl(zahl):\n",
    "    print(\"ist eine Primzahl.\")\n",
    "else:\n",
    "    print(\"ist keine Primzahl.\")"
   ]
  },
  {
   "cell_type": "code",
   "execution_count": 8,
   "id": "dc4f9fbb-c34f-4cd5-8f1a-505e5dc85340",
   "metadata": {
    "tags": []
   },
   "outputs": [
    {
     "name": "stdout",
     "output_type": "stream",
     "text": [
      "ist keine Primzahl.\n"
     ]
    }
   ],
   "source": [
    "zahl = 8\n",
    "\n",
    "if primzahl(zahl):\n",
    "    print(\"ist eine Primzahl.\")\n",
    "else:\n",
    "    print(\"ist keine Primzahl.\")"
   ]
  },
  {
   "cell_type": "markdown",
   "id": "3fcc7dc9-89cd-4a5e-a95f-7dfdbdefd5f1",
   "metadata": {
    "tags": []
   },
   "source": [
    "Der Code und die Funktion sind also korrekt."
   ]
  },
  {
   "cell_type": "markdown",
   "id": "00b1e9ab-1922-49cc-8582-016115fd8814",
   "metadata": {},
   "source": [
    "### 2. Quadratische Gleichung\n",
    "\n",
    "Für die Lösung dieser Aufgabe, habe ich mich an diesem Video orientiert: https://www.youtube.com/watch?v=4pF6Ygh-kXk"
   ]
  },
  {
   "cell_type": "markdown",
   "id": "21cd9b20-0a38-4ca1-8d90-7db4bd09eb73",
   "metadata": {},
   "source": [
    "1. ___def quadratische_gleichung(a, b, c):___ Erstellung der Funktion. Die Argumente a, b und c repräsentieren die Koeffizienten der quadratischen Gleichung.\n",
    "2. ___diskriminante = b**2 - 4*a*c:___ die Diskriminante wird mit der Formel ___diskriminante = b**2 - 4*a*c___ berechnet.\n",
    "3. ___if diskriminante > 0:___ Überprüfung, ob die Diskriminante größer als 0 ist.\n",
    "4. ___x1 = (-b + (diskriminante)**0.5) / (2*a):___ wenn die Diskriminante größer als 0 ist, gibt es zwei reelle Lösungen für die quadratische Gleichung. Die Formel ___x1 = (-b + (diskriminante)**0.5) / (2*a)___ berechnet die erste Lösung.\n",
    "5. ___x2 = (-b - (diskriminante)**0.5) / (2*a):___ dies ist die Formel für die Berechnung der zweiten Lösung.\n",
    "6. ___return (x1, x2):___ ausgabe der beiden Lösungen.\n",
    "7. ___elif diskriminante == 0:___ Überprüfung, ob die Diskriminante gleich 0 ist.\n",
    "8. ___x1 = -b / (2*a):___ wenn die Diskriminante gleich 0 ist, wird die Lösung ___x1___ mit der Formel ___-b / (2*a)___ berechnet.\n",
    "9. ___return (x1):___ Ausgabe der Lösung, wenn die Diskriminante gleich 0 ist.\n",
    "10. ___else: return ():___ wenn weder die Bedingung für eine positive Diskriminante noch die Bedingung für eine gleich null Diskriminante erfüllt ist, bedeutet das, dass es keine reelle Lösung gibt, sondern komplexe Lösungen. In diesem Fall wird ein leeres Tupel () zurückgegeben. \n"
   ]
  },
  {
   "cell_type": "code",
   "execution_count": 23,
   "id": "381510fa-0b68-4382-b26b-d5088452cbeb",
   "metadata": {
    "tags": []
   },
   "outputs": [],
   "source": [
    "def quadratische_gleichung(a, b, c):\n",
    "    diskriminante = b**2 - 4*a*c\n",
    "    \n",
    "    if diskriminante > 0:\n",
    "        x1 = (-b + (diskriminante)**0.5) / (2*a)\n",
    "        x2 = (-b - (diskriminante)**0.5) / (2*a)\n",
    "        return (x1, x2)\n",
    "    elif diskriminante == 0:\n",
    "        x1 = -b / (2*a)\n",
    "        return (x1)\n",
    "    else:\n",
    "        return ()\n"
   ]
  },
  {
   "cell_type": "markdown",
   "id": "288f146a-f51d-426d-9d8c-f80971830834",
   "metadata": {},
   "source": [
    "#### Test Aufgabe\n",
    "\n",
    "Wenn wir nun also der quadratischen Gleichung die Zahlen 2 (a), -5 (b) und 3 (c) mitgeben, sehen wir dass die Ausgabe korrekt ist, da zwei reelle Lösungen möglich sind."
   ]
  },
  {
   "cell_type": "code",
   "execution_count": 26,
   "id": "df360af8-1f92-4b0d-a2a6-9a3f5aa22e47",
   "metadata": {
    "tags": []
   },
   "outputs": [
    {
     "name": "stdout",
     "output_type": "stream",
     "text": [
      "(1.5, 1.0)\n"
     ]
    }
   ],
   "source": [
    "print(quadratische_gleichung(2,-5,3))"
   ]
  },
  {
   "cell_type": "markdown",
   "id": "ae1342f5-e3f5-47e2-bea1-9ea729b76f45",
   "metadata": {
    "tags": []
   },
   "source": [
    "### 3. Entfernung von Duplikaten aus Liste\n",
    "\n",
    "Für diese Lösung gibt es verschiedene Ansätze, daher habe ich mich nach einer kurzen Recherche für den Befehl ___set___ entschieden. Dieser Befehl erscheint mir einfach und elegant. Hier der Link zur Recherche dieses Themas: https://geekflare.com/de/remove-duplicate-items-from-python-lists/"
   ]
  },
  {
   "cell_type": "markdown",
   "id": "edc41aa7-6ec3-40c9-85d1-dffc134d477f",
   "metadata": {},
   "source": [
    "\n",
    "\n",
    "1. ___unikat_liste = set(eingabeliste)___: hier wird die Eingabeliste ___eingabeliste___ in ein Set umgewandelt, und das Ergebnis wird in der Variable ___unikat_liste___ gespeichert. Die Umwandlung in ein Set hat den Effekt, dass alle Duplikate aus der Liste entfernt werden, da Sets keine doppelten Elemente enthalten können. Nach dieser Zeile enthält ___unikat_liste___ alle eindeutigen Elemente der ursprünglichen Liste.\n",
    "2. ___return list(unikat_liste)___: in diesem Schritt wird das Set ___unikat_liste___ zurück in eine Liste umgewandelt, und diese Liste wird als Ergebnis der Funktion zurückgegeben. Jetzt enthält die zurückgegebene Liste nur noch die eindeutigen Elemente aus der ursprünglichen Liste, und alle Duplikate sind entfernt worden.\n"
   ]
  },
  {
   "cell_type": "code",
   "execution_count": 18,
   "id": "1b5fc4b4-698a-4b87-8fa6-3341732bdbcb",
   "metadata": {
    "tags": []
   },
   "outputs": [],
   "source": [
    "def entferne_duplikate(eingabeliste):\n",
    "    unikat_liste = set(eingabeliste)\n",
    "    \n",
    "    return list(unikat_liste)\n",
    "    "
   ]
  },
  {
   "cell_type": "markdown",
   "id": "aeaca0bf-f391-478d-8f15-3061d01701b2",
   "metadata": {},
   "source": [
    "#### Test Aufgabe\n",
    "\n",
    "Wenn wir dies nun prüfen indem wir eine Liste mit doppelten Zahlen erstellen, sehen wir, dass alle Duplikate entfernt wurden. Der Code hat also funktioniert."
   ]
  },
  {
   "cell_type": "code",
   "execution_count": 19,
   "id": "222652c0-21a4-4230-a336-05dd882ef7cd",
   "metadata": {
    "tags": []
   },
   "outputs": [
    {
     "name": "stdout",
     "output_type": "stream",
     "text": [
      "[1, 2, 3, 4, 5]\n"
     ]
    }
   ],
   "source": [
    "Liste = [1, 2, 2, 3, 4, 4, 5]\n",
    "\n",
    "print (entferne_duplikate(Liste))"
   ]
  },
  {
   "cell_type": "markdown",
   "id": "a867e27e-c1a6-4c93-b7af-c8082484e125",
   "metadata": {},
   "source": [
    "### 4. Bestimmung Wochentag\n",
    "\n",
    "Die Quelle für die Erarbeitung dieser Lösung ist folgende: https://www.python-lernen.de/python-modul-datetime.htm"
   ]
  },
  {
   "cell_type": "markdown",
   "id": "8b4be5b4-1271-4a4e-9bd6-f798c051e573",
   "metadata": {},
   "source": [
    "1. ___from datetime import datetime___: hier wird das datetime-Modul aus der Python-Standardbibliothek importiert, welches es mir erlaubt Funktionen zur Arbeit mit Datums- und Uhrzeitangaben zu nutzen.\n",
    "2. ___def wochentag_bestimmen(datum_string):___ es wird eine Funktion namens ___wochentag_bestimmen___ definiert, die ein Argument ___datum_string___ erwartet. Diese Funktion wird verwendet, um den Wochentag für ein gegebenes Datum im ISO-Format zu bestimmen.\n",
    "3. ___datum = datetime.fromisoformat(datum_string)___: wird verwendet, um das ___datum_string___, das im ISO-Format vorliegt, in ein ___datetime___-Objekt umzuwandeln. Die Funktion ___datetime.fromisoformat___ gehört zum Import ___datetime___. \n",
    "4. ___wochentag = datum.strftime(\"%A\")___: nach Umwandlung in ein datetime-Objekt, wird der Befehl ___strftime(\"%A\")___ verwendet, um den Wochentag als String abzurufen. ___%A___ ist ein Formatcode, der den vollständigen Wochentag darstellt.\n",
    "5. ___return wochentag___: der ermittelte Wochentag als String wird von der Funktion zurückgegeben.\n"
   ]
  },
  {
   "cell_type": "code",
   "execution_count": 20,
   "id": "7d63ec0d-72a7-4771-aec9-a593182a5c94",
   "metadata": {
    "tags": []
   },
   "outputs": [],
   "source": [
    "from datetime import datetime\n",
    "\n",
    "def wochentag_bestimmen(datum_string):\n",
    "    datum = datetime.fromisoformat(datum_string)\n",
    "    wochentag = datum.strftime(\"%A\")\n",
    "    \n",
    "    return wochentag"
   ]
  },
  {
   "cell_type": "markdown",
   "id": "21eb1ad4-c40e-4ad6-9766-47e9faa0ea82",
   "metadata": {},
   "source": [
    "#### Test Aufgabe"
   ]
  },
  {
   "cell_type": "markdown",
   "id": "3c0ea9c5-2e74-47a8-a03a-368b65d3e56d",
   "metadata": {},
   "source": [
    "Wenn wir nun also ein Datum im ISO-Format einer Variable zuweisen und diese Variable mit der erstellten Funktion ausweisen, sehen wir, dass der Code Funktioniert hat."
   ]
  },
  {
   "cell_type": "code",
   "execution_count": 21,
   "id": "97fd2995-c57a-47c6-ac42-a3a3a4050e00",
   "metadata": {
    "tags": []
   },
   "outputs": [
    {
     "name": "stdout",
     "output_type": "stream",
     "text": [
      "Wednesday\n"
     ]
    }
   ],
   "source": [
    "datum = \"2023-09-27\"\n",
    "\n",
    "print(wochentag_bestimmen(datum))"
   ]
  },
  {
   "cell_type": "code",
   "execution_count": null,
   "id": "90119331-e9d1-465a-a0f3-4d892aec84ba",
   "metadata": {},
   "outputs": [],
   "source": []
  },
  {
   "cell_type": "code",
   "execution_count": null,
   "id": "2fb23049-9c6e-44c5-9dd5-d0980dcb7284",
   "metadata": {},
   "outputs": [],
   "source": []
  }
 ],
 "metadata": {
  "kernelspec": {
   "display_name": "Python 3 (ipykernel)",
   "language": "python",
   "name": "python3"
  },
  "language_info": {
   "codemirror_mode": {
    "name": "ipython",
    "version": 3
   },
   "file_extension": ".py",
   "mimetype": "text/x-python",
   "name": "python",
   "nbconvert_exporter": "python",
   "pygments_lexer": "ipython3",
   "version": "3.11.4"
  }
 },
 "nbformat": 4,
 "nbformat_minor": 5
}
